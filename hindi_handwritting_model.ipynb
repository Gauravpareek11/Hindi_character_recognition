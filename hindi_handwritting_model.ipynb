{
 "cells": [
  {
   "cell_type": "code",
   "execution_count": 62,
   "id": "ce66eff1",
   "metadata": {},
   "outputs": [],
   "source": [
    "#model\n",
    "import numpy as np\n",
    "import pandas as pd\n",
    "from keras import layers\n",
    "from keras.layers import Input,Dense,Activation,ZeroPadding2D,BatchNormalization,Flatten,Conv2D\n",
    "from keras.layers import AveragePooling2D,MaxPooling2D,Dropout,GlobalMaxPooling2D,GlobalAveragePooling2D\n",
    "from keras.utils import np_utils\n",
    "from keras.models import Sequential\n",
    "from keras.callbacks import ModelCheckpoint\n",
    "import keras.backend as K"
   ]
  },
  {
   "cell_type": "code",
   "execution_count": 63,
   "id": "3fcfa1b1",
   "metadata": {},
   "outputs": [],
   "source": [
    "data=pd.read_csv(\"data.csv\")\n",
    "dataset=np.array(data)\n",
    "np.random.shuffle(dataset)\n",
    "X=dataset\n",
    "Y=dataset\n",
    "X=X[:, 0:1024]\n",
    "Y=Y[:, 1024]\n",
    "\n",
    "X_train=X[0:70000, :]\n",
    "X_train=X_train / 255.                     #it is a noramlization which will convert to (0/1)\n",
    "X_test=X[70000:72001, :]\n",
    "X_test=X_test / 255.                       #it is a noramlization which will convert to (0/1)\n",
    "\n",
    "#reshaping dataset\n",
    "Y=Y.reshape(Y.shape[0],1)\n",
    "Y_train=Y[0:70000, :]\n",
    "Y_train=Y_train.T\n",
    "Y_test=Y[70000:72001, :]\n",
    "Y_test=Y_test.T"
   ]
  },
  {
   "cell_type": "code",
   "execution_count": 64,
   "id": "360b692e",
   "metadata": {},
   "outputs": [
    {
     "name": "stdout",
     "output_type": "stream",
     "text": [
      "Number of training examples = 70000\n",
      "Number of test examples = 2000\n",
      "X_train shape: (70000, 1024)\n",
      "X_test shape: (2000, 1024)\n",
      "Y_train shape: (1, 70000)\n",
      "Y_test shape: (1, 2000)\n"
     ]
    }
   ],
   "source": [
    "print(\"Number of training examples = \"+str(X_train.shape[0]))\n",
    "print(\"Number of test examples = \"+str(X_test.shape[0]))\n",
    "print(\"X_train shape: \"+str(X_train.shape))\n",
    "print(\"X_test shape: \"+str(X_test.shape))\n",
    "print(\"Y_train shape: \"+str(Y_train.shape))\n",
    "print(\"Y_test shape: \"+str(Y_test.shape))"
   ]
  },
  {
   "cell_type": "code",
   "execution_count": 67,
   "id": "f616b51e",
   "metadata": {},
   "outputs": [],
   "source": [
    "image_x=32\n",
    "image_y=32\n",
    "\n",
    "train_y=np_utils.to_categorical(Y_train)\n",
    "test_y=np_utils.to_categorical(Y_test)\n",
    "train_y=train_y.reshape(train_y.shape[1],train_y.shape[2])\n",
    "test_y=test_y.reshape(test_y.shape[1],test_y.shape[2])\n",
    "X_train=X_train.reshape(X_train.shape[0],image_x,image_y,1)\n",
    "X_test=X_test.reshape(X_test.shape[0],image_x,image_y,1)"
   ]
  },
  {
   "cell_type": "code",
   "execution_count": 68,
   "id": "f445d024",
   "metadata": {},
   "outputs": [
    {
     "name": "stdout",
     "output_type": "stream",
     "text": [
      "X_train shape: (70000, 32, 32, 1)\n",
      "Y_train shape: (70000, 37)\n"
     ]
    }
   ],
   "source": [
    "print(\"X_train shape: \"+str(X_train.shape))\n",
    "print(\"Y_train shape: \"+str(train_y.shape))"
   ]
  },
  {
   "cell_type": "code",
   "execution_count": 72,
   "id": "a94b2fe6",
   "metadata": {},
   "outputs": [],
   "source": [
    "#building a model\n",
    "def keras_model(image_x,image_y):\n",
    "    num_of_classes=37\n",
    "    model=Sequential()\n",
    "    model.add(Conv2D(filters=32,kernel_size=(5,5),input_shape=(image_x,image_y,1),activation='relu'))\n",
    "    model.add(MaxPooling2D(pool_size=(2,2),strides=(2,2),padding='same'))\n",
    "    model.add(Conv2D(64,(5,5),activation='relu'))\n",
    "    model.add(MaxPooling2D(pool_size=(5,5),strides=(5,5),padding='same'))\n",
    "    model.add(Flatten())\n",
    "    model.add(Dense(num_of_classes,activation='softmax'))\n",
    "    model.compile(loss='categorical_crossentropy',optimizer='adam',metrics=['accuracy'])\n",
    "    filepath=\"devanagari_model_refined.h5\"\n",
    "    checkpoint1=ModelCheckpoint(filepath,monitor='val_acc',verbose=1,save_best_only=True,mode='max')\n",
    "    callbacks_list=[checkpoint1]\n",
    "    \n",
    "    return model, callbacks_list"
   ]
  },
  {
   "cell_type": "code",
   "execution_count": 73,
   "id": "c1966a87",
   "metadata": {},
   "outputs": [
    {
     "name": "stdout",
     "output_type": "stream",
     "text": [
      "Epoch 1/8\n",
      "WARNING:tensorflow:AutoGraph could not transform <bound method Dense.call of <keras.layers.core.Dense object at 0x0000016F19B0C9A0>> and will run it as-is.\n",
      "Please report this to the TensorFlow team. When filing the bug, set the verbosity to 10 (on Linux, `export AUTOGRAPH_VERBOSITY=10`) and attach the full output.\n",
      "Cause: invalid syntax (tmp7uohgdjq.py, line 48)\n",
      "To silence this warning, decorate the function with @tf.autograph.experimental.do_not_convert\n",
      "WARNING: AutoGraph could not transform <bound method Dense.call of <keras.layers.core.Dense object at 0x0000016F19B0C9A0>> and will run it as-is.\n",
      "Please report this to the TensorFlow team. When filing the bug, set the verbosity to 10 (on Linux, `export AUTOGRAPH_VERBOSITY=10`) and attach the full output.\n",
      "Cause: invalid syntax (tmp7uohgdjq.py, line 48)\n",
      "To silence this warning, decorate the function with @tf.autograph.experimental.do_not_convert\n",
      "1094/1094 [==============================] - 78s 52ms/step - loss: 1.4450 - accuracy: 0.6052 - val_loss: 0.2769 - val_accuracy: 0.9230\n",
      "WARNING:tensorflow:Can save best model only with val_acc available, skipping.\n",
      "Epoch 2/8\n",
      "1094/1094 [==============================] - 55s 50ms/step - loss: 0.2508 - accuracy: 0.9238 - val_loss: 0.1767 - val_accuracy: 0.9460\n",
      "WARNING:tensorflow:Can save best model only with val_acc available, skipping.\n",
      "Epoch 3/8\n",
      "1094/1094 [==============================] - 55s 50ms/step - loss: 0.1571 - accuracy: 0.9516 - val_loss: 0.1404 - val_accuracy: 0.9595\n",
      "WARNING:tensorflow:Can save best model only with val_acc available, skipping.\n",
      "Epoch 4/8\n",
      "1094/1094 [==============================] - 55s 50ms/step - loss: 0.1092 - accuracy: 0.9671 - val_loss: 0.1155 - val_accuracy: 0.9640\n",
      "WARNING:tensorflow:Can save best model only with val_acc available, skipping.\n",
      "Epoch 5/8\n",
      "1094/1094 [==============================] - 55s 51ms/step - loss: 0.0834 - accuracy: 0.9750 - val_loss: 0.1074 - val_accuracy: 0.9665\n",
      "WARNING:tensorflow:Can save best model only with val_acc available, skipping.\n",
      "Epoch 6/8\n",
      "1094/1094 [==============================] - 56s 51ms/step - loss: 0.0662 - accuracy: 0.9792 - val_loss: 0.1084 - val_accuracy: 0.9665\n",
      "WARNING:tensorflow:Can save best model only with val_acc available, skipping.\n",
      "Epoch 7/8\n",
      "1094/1094 [==============================] - 54s 50ms/step - loss: 0.0546 - accuracy: 0.9838 - val_loss: 0.1137 - val_accuracy: 0.9685\n",
      "WARNING:tensorflow:Can save best model only with val_acc available, skipping.\n",
      "Epoch 8/8\n",
      "1094/1094 [==============================] - 58s 53ms/step - loss: 0.0445 - accuracy: 0.9860 - val_loss: 0.0994 - val_accuracy: 0.9740\n",
      "WARNING:tensorflow:Can save best model only with val_acc available, skipping.\n",
      "CNN Error: 2.60%\n"
     ]
    }
   ],
   "source": [
    "model, callbacks_list= keras_model(image_x, image_y)\n",
    "model.fit(X_train, train_y, validation_data=(X_test, test_y), epochs=8,batch_size=64,callbacks=callbacks_list)\n",
    "scores=model.evaluate(X_test,test_y,verbose=0)\n",
    "print(\"CNN Error: %.2f%%\" % (100-scores[1] * 100))\n",
    "model.save('devanagri.h5')"
   ]
  },
  {
   "cell_type": "code",
   "execution_count": null,
   "id": "e983fee4",
   "metadata": {},
   "outputs": [],
   "source": []
  },
  {
   "cell_type": "code",
   "execution_count": null,
   "id": "9c3748e3",
   "metadata": {},
   "outputs": [],
   "source": []
  }
 ],
 "metadata": {
  "kernelspec": {
   "display_name": "Python 3",
   "language": "python",
   "name": "python3"
  },
  "language_info": {
   "codemirror_mode": {
    "name": "ipython",
    "version": 3
   },
   "file_extension": ".py",
   "mimetype": "text/x-python",
   "name": "python",
   "nbconvert_exporter": "python",
   "pygments_lexer": "ipython3",
   "version": "3.9.4"
  }
 },
 "nbformat": 4,
 "nbformat_minor": 5
}
